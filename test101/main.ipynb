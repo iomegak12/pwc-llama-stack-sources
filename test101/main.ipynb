{
 "cells": [
  {
   "cell_type": "markdown",
   "metadata": {},
   "source": [
    "### Testing 101"
   ]
  },
  {
   "cell_type": "code",
   "execution_count": 3,
   "metadata": {},
   "outputs": [],
   "source": [
    "from art import tprint"
   ]
  },
  {
   "cell_type": "code",
   "execution_count": 4,
   "metadata": {},
   "outputs": [
    {
     "name": "stdout",
     "output_type": "stream",
     "text": [
      "__        __       _                                 _            ____              ____            ____                  _     ___ \n",
      "\\ \\      / /  ___ | |  ___   ___   _ __ ___    ___  | |_   ___   |  _ \\ __      __ / ___|          / ___|  ___  _ __     / \\   |_ _|\n",
      " \\ \\ /\\ / /  / _ \\| | / __| / _ \\ | '_ ` _ \\  / _ \\ | __| / _ \\  | |_) |\\ \\ /\\ / /| |      _____  | |  _  / _ \\| '_ \\   / _ \\   | | \n",
      "  \\ V  V /  |  __/| || (__ | (_) || | | | | ||  __/ | |_ | (_) | |  __/  \\ V  V / | |___  |_____| | |_| ||  __/| | | | / ___ \\  | | \n",
      "   \\_/\\_/    \\___||_| \\___| \\___/ |_| |_| |_| \\___|  \\__| \\___/  |_|      \\_/\\_/   \\____|          \\____| \\___||_| |_|/_/   \\_\\|___|\n",
      "                                                                                                                                    \n",
      "\n"
     ]
    }
   ],
   "source": [
    "tprint(\"Welcome to PwC - GenAI\")"
   ]
  }
 ],
 "metadata": {
  "kernelspec": {
   "display_name": "Python 3",
   "language": "python",
   "name": "python3"
  },
  "language_info": {
   "codemirror_mode": {
    "name": "ipython",
    "version": 3
   },
   "file_extension": ".py",
   "mimetype": "text/x-python",
   "name": "python",
   "nbconvert_exporter": "python",
   "pygments_lexer": "ipython3",
   "version": "3.12.9"
  }
 },
 "nbformat": 4,
 "nbformat_minor": 2
}
