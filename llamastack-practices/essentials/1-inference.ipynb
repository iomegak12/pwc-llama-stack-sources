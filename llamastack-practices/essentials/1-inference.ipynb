{
 "cells": [
  {
   "cell_type": "markdown",
   "metadata": {},
   "source": [
    "### Inferencing in Jupyter Notebooks"
   ]
  },
  {
   "cell_type": "code",
   "execution_count": 1,
   "metadata": {},
   "outputs": [],
   "source": [
    "import os\n",
    "import sys\n",
    "\n",
    "from dotenv import load_dotenv"
   ]
  },
  {
   "cell_type": "code",
   "execution_count": 2,
   "metadata": {},
   "outputs": [],
   "source": [
    "load_dotenv()\n",
    "\n",
    "def create_http_client():\n",
    "    from llama_stack_client import LlamaStackClient\n",
    "\n",
    "    host = os.environ[\"LLAMA_STACK_SERVER_HOST\"]\n",
    "    port = os.environ[\"LLAMA_STACK_SERVER_PORT\"]\n",
    "\n",
    "    return LlamaStackClient(\n",
    "        base_url=f\"http://{host}:{port}\"\n",
    "    )\n",
    "\n",
    "client = (\n",
    "    create_http_client()\n",
    ")  "
   ]
  },
  {
   "cell_type": "code",
   "execution_count": 3,
   "metadata": {},
   "outputs": [
    {
     "name": "stdout",
     "output_type": "stream",
     "text": [
      "--- Available models: ---\n",
      "- meta-llama/Llama-3.2-3B-Instruct\n",
      "- meta-llama/Llama-Guard-3-1B\n",
      "- all-MiniLM-L6-v2\n",
      "\n"
     ]
    }
   ],
   "source": [
    "models = client.models.list()\n",
    "\n",
    "print(\"--- Available models: ---\")\n",
    "\n",
    "for m in models:\n",
    "    print(f\"- {m.identifier}\")\n",
    "    \n",
    "print()\n"
   ]
  },
  {
   "cell_type": "code",
   "execution_count": 4,
   "metadata": {},
   "outputs": [
    {
     "name": "stdout",
     "output_type": "stream",
     "text": [
      "Here is a haiku about coding:\n",
      "\n",
      "Lines of code unfold\n",
      "Logic flows through digital night\n",
      "Beauty in the bits\n"
     ]
    }
   ],
   "source": [
    "response = client.inference.chat_completion(\n",
    "    model_id=os.environ[\"INFERENCE_MODEL\"],\n",
    "    messages=[\n",
    "        {\"role\": \"system\", \"content\": \"You are a helpful assistant.\"},\n",
    "        {\"role\": \"user\", \"content\": \"Write a haiku about coding\"},\n",
    "    ],\n",
    ")\n",
    "\n",
    "print(response.completion_message.content)"
   ]
  }
 ],
 "metadata": {
  "kernelspec": {
   "display_name": "Python 3",
   "language": "python",
   "name": "python3"
  },
  "language_info": {
   "codemirror_mode": {
    "name": "ipython",
    "version": 3
   },
   "file_extension": ".py",
   "mimetype": "text/x-python",
   "name": "python",
   "nbconvert_exporter": "python",
   "pygments_lexer": "ipython3",
   "version": "3.12.9"
  }
 },
 "nbformat": 4,
 "nbformat_minor": 2
}
