{
 "cells": [
  {
   "cell_type": "markdown",
   "metadata": {},
   "source": [
    "### Advanced Inferencing - Loop, Conversation History and Streaming"
   ]
  },
  {
   "cell_type": "code",
   "execution_count": 1,
   "metadata": {},
   "outputs": [],
   "source": [
    "import os\n",
    "\n",
    "from dotenv import load_dotenv"
   ]
  },
  {
   "cell_type": "code",
   "execution_count": 2,
   "metadata": {},
   "outputs": [],
   "source": [
    "load_dotenv()\n",
    "\n",
    "def create_http_client(use_local: bool = True):\n",
    "    from llama_stack_client import LlamaStackClient\n",
    "\n",
    "    host = os.environ[\"LLAMA_STACK_SERVER_HOST\"]\n",
    "    port = os.environ[\"LLAMA_STACK_SERVER_PORT\"]\n",
    "\n",
    "    if use_local:\n",
    "        return LlamaStackClient(\n",
    "            base_url=f\"http://{host}:{port}\"\n",
    "        )\n",
    "    \n",
    "    togther_url = os.environ[\"TOGETHER_URL\"]\n",
    "    together_api_key = os.environ[\"TOGETHER_API_KEY\"]\n",
    "\n",
    "    client = LlamaStackClient(\n",
    "        base_url=togther_url,\n",
    "        provider_data = {\n",
    "            \"together_api_key\": together_api_key\n",
    "        }\n",
    "    )\n",
    "    \n",
    "    return client\n",
    "\n",
    "client = (\n",
    "    create_http_client(use_local=True)\n",
    ")  "
   ]
  },
  {
   "cell_type": "code",
   "execution_count": 3,
   "metadata": {},
   "outputs": [],
   "source": [
    "import asyncio\n",
    "from termcolor import cprint\n",
    "\n",
    "async def chat_loop():\n",
    "    while True:\n",
    "        message = input(\"Enter message: \")\n",
    "        \n",
    "        if message.lower() in [\"exit\", \"quit\", \"bye\"]:\n",
    "            cprint(\"Ending the Conversation Loop ...\", \"yellow\")\n",
    "            break\n",
    "        \n",
    "        prompt = {\"role\":\"user\", \"content\": message}\n",
    "        response = client.inference.chat_completion(\n",
    "            messages = [prompt],\n",
    "            model_id=os.environ[\"INFERENCE_MODEL\"]\n",
    "        )\n",
    "        \n",
    "        cprint(f\"Response: {response.completion_message.content}\", \"green\")"
   ]
  },
  {
   "cell_type": "code",
   "execution_count": 4,
   "metadata": {},
   "outputs": [],
   "source": [
    "await chat_loop()"
   ]
  },
  {
   "cell_type": "code",
   "execution_count": 13,
   "metadata": {},
   "outputs": [],
   "source": [
    "import asyncio\n",
    "from termcolor import cprint\n",
    "\n",
    "conversation_history=[]\n",
    "\n",
    "async def chat_loop():\n",
    "    while True:\n",
    "        message = input(\"Enter message: \")\n",
    "        \n",
    "        if message.lower() in [\"exit\", \"quit\", \"bye\"]:\n",
    "            cprint(\"Ending the Conversation Loop ...\", \"yellow\")\n",
    "            break\n",
    "        \n",
    "        prompt = {\"role\":\"user\", \"content\": message}\n",
    "        conversation_history.append(prompt)\n",
    "        \n",
    "        response = client.inference.chat_completion(\n",
    "            messages = conversation_history,\n",
    "            model_id=os.environ[\"INFERENCE_MODEL\"]\n",
    "        )\n",
    "        \n",
    "        cprint(f\"Response: {response.completion_message.content}\", \"green\")\n",
    "        \n",
    "        assistant_message = {\n",
    "            \"role\":\"user\",\n",
    "            \"content\": response.completion_message.content\n",
    "        }\n",
    "        \n",
    "        conversation_history.append(assistant_message)"
   ]
  },
  {
   "cell_type": "code",
   "execution_count": 9,
   "metadata": {},
   "outputs": [],
   "source": [
    "await chat_loop()"
   ]
  },
  {
   "cell_type": "code",
   "execution_count": 11,
   "metadata": {},
   "outputs": [],
   "source": [
    "from llama_stack_client.lib.inference.event_logger import EventLogger\n",
    "\n",
    "message = {\n",
    "    \"role\": \"user\",\n",
    "    \"content\": \"write a tweet about the new iPhone 13\"\n",
    "}\n",
    "\n",
    "cprint(f\"Message: {message}\", \"green\")\n",
    "\n",
    "response = client.inference.chat_completion(\n",
    "    messages=[message],\n",
    "    stream=True,\n",
    "    model_id=os.environ[\"INFERENCE_MODEL\"]\n",
    ")\n",
    "\n",
    "\n",
    "for log in EventLogger().log(response):\n",
    "    log.print()"
   ]
  }
 ],
 "metadata": {
  "kernelspec": {
   "display_name": "Python 3",
   "language": "python",
   "name": "python3"
  },
  "language_info": {
   "codemirror_mode": {
    "name": "ipython",
    "version": 3
   },
   "file_extension": ".py",
   "mimetype": "text/x-python",
   "name": "python",
   "nbconvert_exporter": "python",
   "pygments_lexer": "ipython3",
   "version": "3.12.9"
  }
 },
 "nbformat": 4,
 "nbformat_minor": 2
}
