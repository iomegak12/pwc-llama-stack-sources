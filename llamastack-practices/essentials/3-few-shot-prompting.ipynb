{
 "cells": [
  {
   "cell_type": "markdown",
   "metadata": {},
   "source": [
    "### Few Shot Examples in Prompt Engineering"
   ]
  },
  {
   "cell_type": "code",
   "execution_count": 1,
   "metadata": {},
   "outputs": [],
   "source": [
    "import os\n",
    "\n",
    "from dotenv import load_dotenv"
   ]
  },
  {
   "cell_type": "code",
   "execution_count": 4,
   "metadata": {},
   "outputs": [
    {
     "name": "stdout",
     "output_type": "stream",
     "text": [
      "Llama Stack Server is connected with 172.23.102.215:8321\n"
     ]
    }
   ],
   "source": [
    "load_dotenv()\n",
    "\n",
    "host = os.environ[\"LLAMA_STACK_SERVER_HOST\"]\n",
    "port = os.environ[\"LLAMA_STACK_SERVER_PORT\"]\n",
    "\n",
    "print(f\"Llama Stack Server is connected with {host}:{port}\")\n",
    "\n",
    "llama_stack_url = f\"http://{host}:{port}\""
   ]
  },
  {
   "cell_type": "code",
   "execution_count": 5,
   "metadata": {},
   "outputs": [],
   "source": [
    "from llama_stack_client import LlamaStackClient\n",
    "\n",
    "client = LlamaStackClient(base_url=llama_stack_url)"
   ]
  },
  {
   "cell_type": "code",
   "execution_count": 6,
   "metadata": {},
   "outputs": [],
   "source": [
    "few_shot_examples = [{\"role\": \"user\", \"content\": 'Have shorter, spear-shaped ears.'},\n",
    "                     {\n",
    "    \"role\": \"assistant\",\n",
    "    \"content\": \"That's Alpaca!\",\n",
    "    \"stop_reason\": 'end_of_message',\n",
    "    \"tool_calls\": []\n",
    "},\n",
    "    {\n",
    "        \"role\": \"user\",\n",
    "        \"content\": 'Known for their calm nature and used as pack animals in mountainous regions.'\n",
    "},\n",
    "    {\n",
    "        \"role\": \"assistant\",\n",
    "        \"content\": \"That's Llama!\",\n",
    "        \"stop_reason\": 'end_of_message',\n",
    "        \"tool_calls\": []\n",
    "},\n",
    "    {\n",
    "        \"role\": \"user\",\n",
    "        \"content\": 'Has a straight, slender neck and is smaller in size compared to its relative.'\n",
    "},\n",
    "    {\n",
    "        \"role\": \"assistant\",\n",
    "        \"content\": \"That's Alpaca!\",\n",
    "        \"stop_reason\": 'end_of_message',\n",
    "        \"tool_calls\": []\n",
    "},\n",
    "    {\n",
    "        \"role\": \"user\",\n",
    "        \"content\": 'Generally taller and more robust, commonly seen as guard animals.'\n",
    "}\n",
    "]"
   ]
  },
  {
   "cell_type": "code",
   "execution_count": 13,
   "metadata": {},
   "outputs": [],
   "source": [
    "response = client.inference.chat_completion(\n",
    "    messages=few_shot_examples,\n",
    "    model_id=os.environ[\"INFERENCE_MODEL\"]\n",
    ")"
   ]
  },
  {
   "cell_type": "code",
   "execution_count": 14,
   "metadata": {},
   "outputs": [
    {
     "name": "stdout",
     "output_type": "stream",
     "text": [
      "\u001b[32mThat's Camel!\u001b[0m\n"
     ]
    }
   ],
   "source": [
    "from termcolor import cprint\n",
    "\n",
    "cprint(response.completion_message.content, \"green\")"
   ]
  }
 ],
 "metadata": {
  "kernelspec": {
   "display_name": "Python 3",
   "language": "python",
   "name": "python3"
  },
  "language_info": {
   "codemirror_mode": {
    "name": "ipython",
    "version": 3
   },
   "file_extension": ".py",
   "mimetype": "text/x-python",
   "name": "python",
   "nbconvert_exporter": "python",
   "pygments_lexer": "ipython3",
   "version": "3.12.9"
  }
 },
 "nbformat": 4,
 "nbformat_minor": 2
}
