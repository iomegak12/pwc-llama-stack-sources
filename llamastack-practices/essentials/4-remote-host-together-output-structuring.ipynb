{
 "cells": [
  {
   "cell_type": "markdown",
   "metadata": {},
   "source": [
    "### Connecting to Remote Together Llama Stack Server"
   ]
  },
  {
   "cell_type": "code",
   "execution_count": 1,
   "metadata": {},
   "outputs": [],
   "source": [
    "import os\n",
    "\n",
    "from dotenv import load_dotenv"
   ]
  },
  {
   "cell_type": "code",
   "execution_count": 2,
   "metadata": {},
   "outputs": [
    {
     "data": {
      "text/plain": [
       "True"
      ]
     },
     "execution_count": 2,
     "metadata": {},
     "output_type": "execute_result"
    }
   ],
   "source": [
    "load_dotenv()"
   ]
  },
  {
   "cell_type": "code",
   "execution_count": 3,
   "metadata": {},
   "outputs": [],
   "source": [
    "from llama_stack_client import LlamaStackClient\n",
    "\n",
    "togther_url = os.environ[\"TOGETHER_URL\"]\n",
    "together_api_key = os.environ[\"TOGETHER_API_KEY\"]\n",
    "\n",
    "client = LlamaStackClient(\n",
    "    base_url=togther_url,\n",
    "    provider_data = {\n",
    "        \"together_api_key\": together_api_key\n",
    "    }\n",
    ")"
   ]
  },
  {
   "cell_type": "code",
   "execution_count": 4,
   "metadata": {},
   "outputs": [
    {
     "name": "stdout",
     "output_type": "stream",
     "text": [
      "--- Available models: ---\n",
      "- meta-llama/Llama-3.1-8B-Instruct\n",
      "- meta-llama/Llama-3.1-70B-Instruct\n",
      "- meta-llama/Llama-3.1-405B-Instruct-FP8\n",
      "- meta-llama/Llama-3.2-3B-Instruct\n",
      "- meta-llama/Llama-3.2-11B-Vision-Instruct\n",
      "- meta-llama/Llama-3.2-90B-Vision-Instruct\n",
      "- meta-llama/Llama-3.3-70B-Instruct\n",
      "- meta-llama/Llama-Guard-3-8B\n",
      "- meta-llama/Llama-Guard-3-11B-Vision\n",
      "- all-MiniLM-L6-v2\n",
      "\n"
     ]
    }
   ],
   "source": [
    "models = client.models.list()\n",
    "\n",
    "print(\"--- Available models: ---\")\n",
    "\n",
    "for m in models:\n",
    "    print(f\"- {m.identifier}\")\n",
    "    \n",
    "print()\n"
   ]
  },
  {
   "cell_type": "code",
   "execution_count": null,
   "metadata": {},
   "outputs": [],
   "source": [
    "from pydantic import BaseModel\n",
    "\n",
    "class Output(BaseModel):\n",
    "    name: str\n",
    "    year_born: str\n",
    "    year_retired: str"
   ]
  },
  {
   "cell_type": "code",
   "execution_count": null,
   "metadata": {},
   "outputs": [],
   "source": [
    "user_input = \"\"\"\n",
    "Michael Jordan was born in 1963 and retired in 2003. He played for the Chicago Bulls.\n",
    "\n",
    "Extract this information into JSON.\n",
    "\"\"\"\n",
    "\n",
    "response = client.inference.completion(\n",
    "    model_id = os.environ[\"INFERENCE_MODEL\"],\n",
    "    content=user_input,\n",
    "    stream=False,\n",
    "    response_format={\n",
    "        \"type\": \"json_schema\",\n",
    "        \"json_schema\": Output.model_json_schema()\n",
    "    }\n",
    ")"
   ]
  },
  {
   "cell_type": "code",
   "execution_count": null,
   "metadata": {},
   "outputs": [],
   "source": [
    "response.content"
   ]
  }
 ],
 "metadata": {
  "kernelspec": {
   "display_name": "Python 3",
   "language": "python",
   "name": "python3"
  },
  "language_info": {
   "codemirror_mode": {
    "name": "ipython",
    "version": 3
   },
   "file_extension": ".py",
   "mimetype": "text/x-python",
   "name": "python",
   "nbconvert_exporter": "python",
   "pygments_lexer": "ipython3",
   "version": "3.12.9"
  }
 },
 "nbformat": 4,
 "nbformat_minor": 2
}
