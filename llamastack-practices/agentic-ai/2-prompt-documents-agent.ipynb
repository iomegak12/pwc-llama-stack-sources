{
 "cells": [
  {
   "cell_type": "markdown",
   "metadata": {},
   "source": [
    "### Agentic AI - Prompts and Documents"
   ]
  },
  {
   "cell_type": "code",
   "execution_count": null,
   "metadata": {},
   "outputs": [],
   "source": [
    "import os\n",
    "\n",
    "from dotenv import load_dotenv\n",
    "from llama_stack_client import LlamaStackClient, Agent, AgentEventLogger, Document\n",
    "from termcolor import colored"
   ]
  },
  {
   "cell_type": "code",
   "execution_count": null,
   "metadata": {},
   "outputs": [],
   "source": [
    "load_dotenv()"
   ]
  },
  {
   "cell_type": "code",
   "execution_count": null,
   "metadata": {},
   "outputs": [],
   "source": [
    "if 'TAVILY_SEARCH_API_KEY' not in os.environ:\n",
    "    print(colored(\"Warning: TAVILY_SEARCH_API_KEY is not in OS Environment Variables, Please set!\", \"yellow\"))"
   ]
  },
  {
   "cell_type": "code",
   "execution_count": null,
   "metadata": {},
   "outputs": [],
   "source": [
    "# base_url = f\"http://{os.environ[\"LLAMA_STACK_SERVER_REMOTE_HOST\"]}:{os.environ[\"LLAMA_STACK_SERVER_REMOTE_PORT\"]}\"\n",
    "\n",
    "# client = LlamaStackClient(\n",
    "#     base_url=base_url,\n",
    "#     provider_data={\n",
    "#         \"tavily_search_api_key\": os.environ[\"TAVILY_SEARCH_API_KEY\"]\n",
    "#     }\n",
    "# )\n",
    "\n",
    "host = os.environ[\"TOGETHER_URL\"]\n",
    "together_api_key = os.environ[\"TOGETHER_API_KEY\"]\n",
    "\n",
    "client = LlamaStackClient(\n",
    "    base_url=host,\n",
    "    provider_data={\n",
    "        \"tavily_search_api_key\": os.environ[\"TAVILY_SEARCH_API_KEY\"],\n",
    "        \"together_api_key\": together_api_key\n",
    "    }\n",
    ")"
   ]
  },
  {
   "cell_type": "code",
   "execution_count": null,
   "metadata": {},
   "outputs": [],
   "source": [
    "available_shields = [shield.identifier for shield in client.shields.list()]\n",
    "\n",
    "if not available_shields:\n",
    "    print(colored(\"No Shields are available\", \"yellow\"))\n",
    "else:\n",
    "    print(f\"Available Sheilds: {available_shields}\")"
   ]
  },
  {
   "cell_type": "code",
   "execution_count": null,
   "metadata": {},
   "outputs": [],
   "source": [
    "available_models = [model.identifier for model in client.models.list()]\n",
    "\n",
    "print(f\"Available Models: {available_models}\")"
   ]
  },
  {
   "cell_type": "code",
   "execution_count": null,
   "metadata": {},
   "outputs": [],
   "source": [
    "selected_model = \"meta-llama/Llama-3.2-3B-Instruct\""
   ]
  },
  {
   "cell_type": "code",
   "execution_count": null,
   "metadata": {},
   "outputs": [],
   "source": [
    "print(colored(f\"Selected Model: {selected_model}\", \"yellow\"))"
   ]
  },
  {
   "cell_type": "code",
   "execution_count": null,
   "metadata": {},
   "outputs": [],
   "source": [
    "tools = client.tools.list()\n",
    "\n",
    "tools"
   ]
  },
  {
   "cell_type": "code",
   "execution_count": null,
   "metadata": {},
   "outputs": [],
   "source": [
    "agent = Agent(\n",
    "    client,\n",
    "    model=selected_model,\n",
    "    instructions=\"You're a helpful assistant, who answers questions professionally\",\n",
    "    sampling_params={\n",
    "        \"temperature\": 0.2,\n",
    "        \"type\": \"top_p\",\n",
    "        \"top_p\": 0.9,\n",
    "        \"max_tokens\": 1000\n",
    "    },\n",
    "    tools=[\"builtin::websearch\", \"builtin::code_interpreter\"],\n",
    "    input_shields=[],\n",
    "    output_shields=[],\n",
    "    enable_session_persistence=False\n",
    ")"
   ]
  },
  {
   "cell_type": "code",
   "execution_count": null,
   "metadata": {},
   "outputs": [],
   "source": [
    "session_id = agent.create_session(\"test-session\")\n",
    "\n",
    "print(f\"Session Created {session_id} with the agent {agent.agent_id}\")"
   ]
  },
  {
   "cell_type": "code",
   "execution_count": null,
   "metadata": {},
   "outputs": [],
   "source": [
    "with open('./transcript.txt', 'r') as file:\n",
    "    data = file.read().rstrip()"
   ]
  },
  {
   "cell_type": "code",
   "execution_count": null,
   "metadata": {},
   "outputs": [],
   "source": [
    "user_prompts = [\n",
    "    (\n",
    "        \"Here is the podcast transcript as attachment, can you summarize it!\",\n",
    "        [\n",
    "            Document(\n",
    "                content = data,\n",
    "                mime_type=\"text/plain\"\n",
    "            )\n",
    "        ]\n",
    "    ),\n",
    "    (\n",
    "        \"what are the top 3 topics that they were discussing\", None\n",
    "    ),\n",
    "    (\n",
    "        \"Was anything related to H100 machines discussed?\", None\n",
    "    ),\n",
    "    (\n",
    "        \"\"\"while this podcast happened in April 2024, can you search and provide an updated information from the web\n",
    "            on what were the key developments that have happend since then, in the last 3 months\n",
    "        \"\"\", None\n",
    "    ),\n",
    "    (\n",
    "        \"\"\"\n",
    "        Image these people meet again in 1 year, what might there be three good follow-ups to discuss\n",
    "        \"\"\", None\n",
    "    ),\n",
    "    (\n",
    "        \"Hey, can you write these follow-ups in Hindi?\", None\n",
    "    )\n",
    "]"
   ]
  },
  {
   "cell_type": "code",
   "execution_count": null,
   "metadata": {},
   "outputs": [],
   "source": [
    "for prompt in user_prompts:\n",
    "    response = agent.create_turn(\n",
    "        messages=[\n",
    "            {\n",
    "                \"role\": \"user\",\n",
    "                \"content\": prompt[0]\n",
    "            }\n",
    "        ],\n",
    "        documents=prompt[1],\n",
    "        session_id=session_id\n",
    "    )\n",
    "\n",
    "    for log in AgentEventLogger().log(response):\n",
    "        log.print()"
   ]
  }
 ],
 "metadata": {
  "kernelspec": {
   "display_name": "demo-app",
   "language": "python",
   "name": "python3"
  },
  "language_info": {
   "codemirror_mode": {
    "name": "ipython",
    "version": 3
   },
   "file_extension": ".py",
   "mimetype": "text/x-python",
   "name": "python",
   "nbconvert_exporter": "python",
   "pygments_lexer": "ipython3",
   "version": "3.12.9"
  }
 },
 "nbformat": 4,
 "nbformat_minor": 2
}
