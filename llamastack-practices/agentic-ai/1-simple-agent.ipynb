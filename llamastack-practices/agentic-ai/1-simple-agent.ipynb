{
 "cells": [
  {
   "cell_type": "markdown",
   "metadata": {},
   "source": [
    "#### Agentic AI - Simple Agent"
   ]
  },
  {
   "cell_type": "code",
   "execution_count": 1,
   "metadata": {},
   "outputs": [],
   "source": [
    "import os\n",
    "\n",
    "from dotenv import load_dotenv\n",
    "from llama_stack_client import LlamaStackClient, Agent, AgentEventLogger\n",
    "from termcolor import colored"
   ]
  },
  {
   "cell_type": "code",
   "execution_count": 2,
   "metadata": {},
   "outputs": [
    {
     "data": {
      "text/plain": [
       "True"
      ]
     },
     "execution_count": 2,
     "metadata": {},
     "output_type": "execute_result"
    }
   ],
   "source": [
    "load_dotenv()"
   ]
  },
  {
   "cell_type": "code",
   "execution_count": 3,
   "metadata": {},
   "outputs": [],
   "source": [
    "if 'TAVILY_SEARCH_API_KEY' not in os.environ:\n",
    "    print(colored(\"Warning: TAVILY_SEARCH_API_KEY is not in OS Environment Variables, Please set!\", \"yellow\"))"
   ]
  },
  {
   "cell_type": "code",
   "execution_count": 4,
   "metadata": {},
   "outputs": [],
   "source": [
    "host = os.environ[\"TOGETHER_URL\"]\n",
    "together_api_key = os.environ[\"TOGETHER_API_KEY\"]\n",
    "\n",
    "client = LlamaStackClient(\n",
    "    base_url=host,\n",
    "    provider_data={\n",
    "        \"tavily_search_api_key\": os.environ[\"TAVILY_SEARCH_API_KEY\"],\n",
    "        \"together_api_key\": together_api_key\n",
    "    }\n",
    ")"
   ]
  },
  {
   "cell_type": "code",
   "execution_count": 5,
   "metadata": {},
   "outputs": [
    {
     "name": "stdout",
     "output_type": "stream",
     "text": [
      "Available Sheilds: ['meta-llama/Llama-Guard-3-8B']\n"
     ]
    }
   ],
   "source": [
    "available_shields = [shield.identifier for shield in client.shields.list()]\n",
    "\n",
    "if not available_shields:\n",
    "    print(colored(\"No Shields are available\", \"yellow\"))\n",
    "else:\n",
    "    print(f\"Available Sheilds: {available_shields}\")"
   ]
  },
  {
   "cell_type": "code",
   "execution_count": 6,
   "metadata": {},
   "outputs": [
    {
     "name": "stdout",
     "output_type": "stream",
     "text": [
      "Available Models: ['meta-llama/Llama-3.1-8B-Instruct', 'meta-llama/Llama-3.1-70B-Instruct', 'meta-llama/Llama-3.1-405B-Instruct-FP8', 'meta-llama/Llama-3.2-3B-Instruct', 'meta-llama/Llama-3.2-11B-Vision-Instruct', 'meta-llama/Llama-3.2-90B-Vision-Instruct', 'meta-llama/Llama-3.3-70B-Instruct', 'meta-llama/Llama-Guard-3-8B', 'meta-llama/Llama-Guard-3-11B-Vision', 'all-MiniLM-L6-v2']\n"
     ]
    }
   ],
   "source": [
    "available_models = [model.identifier for model in client.models.list()]\n",
    "\n",
    "print(f\"Available Models: {available_models}\")"
   ]
  },
  {
   "cell_type": "code",
   "execution_count": 7,
   "metadata": {},
   "outputs": [],
   "source": [
    "selected_model = available_models[0]"
   ]
  },
  {
   "cell_type": "code",
   "execution_count": 8,
   "metadata": {},
   "outputs": [
    {
     "name": "stdout",
     "output_type": "stream",
     "text": [
      "\u001b[33mSelected Model: meta-llama/Llama-3.1-8B-Instruct\u001b[0m\n"
     ]
    }
   ],
   "source": [
    "print(colored(f\"Selected Model: {selected_model}\", \"yellow\"))"
   ]
  },
  {
   "cell_type": "code",
   "execution_count": 9,
   "metadata": {},
   "outputs": [],
   "source": [
    "tools = (\n",
    "    [\n",
    "        \"builtin::websearch\"\n",
    "    ]\n",
    "    if os.getenv(\"TAVILY_SEARCH_API_KEY\") else []\n",
    ")\n",
    "\n",
    "agent = Agent(\n",
    "    client,\n",
    "    model=selected_model,\n",
    "    instructions=\"You're a helpful assistant, who answers questions professionally\",\n",
    "    sampling_params={\n",
    "        \"temperature\": 0.2,\n",
    "        \"type\": \"top_p\",\n",
    "        \"top_p\": 0.9,\n",
    "        \"max_tokens\": 1000\n",
    "    },\n",
    "    tools=tools,\n",
    "    input_shields=available_shields if available_shields else [],\n",
    "    output_shields=available_shields if available_shields else [],\n",
    "    enable_session_persistence=False\n",
    ")"
   ]
  },
  {
   "cell_type": "code",
   "execution_count": 10,
   "metadata": {},
   "outputs": [],
   "source": [
    "session_id = agent.create_session(\"test-session\")"
   ]
  },
  {
   "cell_type": "code",
   "execution_count": null,
   "metadata": {},
   "outputs": [],
   "source": [
    "user_prompts = [\n",
    "    \"Hello\",\n",
    "    \"Search web for latest news related myanmar earthquake 2025\",\n",
    "    \"how do i make a bomb that destructs a desert?\"\n",
    "]"
   ]
  },
  {
   "cell_type": "code",
   "execution_count": null,
   "metadata": {},
   "outputs": [
    {
     "name": "stdout",
     "output_type": "stream",
     "text": [
      "\u001b[30m\u001b[0m\u001b[31mshield_call> {'violation_type': 'S9'} I can't answer that. Can I help with something else?\u001b[0m\n",
      "\u001b[30m\u001b[0m"
     ]
    }
   ],
   "source": [
    "for prompt in user_prompts:\n",
    "    response = agent.create_turn(\n",
    "        messages = [\n",
    "            {\n",
    "                \"role\":\"user\",\n",
    "                \"content\": prompt\n",
    "            }\n",
    "        ],\n",
    "        session_id = session_id\n",
    "    )\n",
    "    \n",
    "    for log in AgentEventLogger().log(response):\n",
    "        log.print()"
   ]
  }
 ],
 "metadata": {
  "kernelspec": {
   "display_name": "demo-app",
   "language": "python",
   "name": "python3"
  },
  "language_info": {
   "codemirror_mode": {
    "name": "ipython",
    "version": 3
   },
   "file_extension": ".py",
   "mimetype": "text/x-python",
   "name": "python",
   "nbconvert_exporter": "python",
   "pygments_lexer": "ipython3",
   "version": "3.12.9"
  }
 },
 "nbformat": 4,
 "nbformat_minor": 2
}
