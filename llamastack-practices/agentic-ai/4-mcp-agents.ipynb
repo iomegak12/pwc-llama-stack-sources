{
 "cells": [
  {
   "cell_type": "markdown",
   "metadata": {},
   "source": [
    "### Using MCP Tools in Llama Stack Client"
   ]
  },
  {
   "cell_type": "code",
   "execution_count": null,
   "metadata": {},
   "outputs": [],
   "source": [
    "import os\n",
    "\n",
    "from dotenv import load_dotenv\n",
    "from llama_stack_client import LlamaStackClient, Agent, AgentEventLogger, RAGDocument\n",
    "from termcolor import colored"
   ]
  },
  {
   "cell_type": "code",
   "execution_count": null,
   "metadata": {},
   "outputs": [],
   "source": [
    "load_dotenv()"
   ]
  },
  {
   "cell_type": "code",
   "execution_count": null,
   "metadata": {},
   "outputs": [],
   "source": [
    "base_url = f\"http://{os.environ[\"LLAMA_STACK_SERVER_REMOTE_HOST\"]}:{os.environ[\"LLAMA_STACK_SERVER_REMOTE_PORT\"]}\"\n",
    "\n",
    "print(f\"Connecting to {base_url}\")\n",
    "\n",
    "client = LlamaStackClient(\n",
    "    base_url=base_url\n",
    ")"
   ]
  },
  {
   "cell_type": "code",
   "execution_count": null,
   "metadata": {},
   "outputs": [],
   "source": [
    "available_shields = [shield.identifier for shield in client.shields.list()]\n",
    "\n",
    "if not available_shields:\n",
    "    print(colored(\"No Shields are available\", \"yellow\"))\n",
    "else:\n",
    "    print(f\"Available Sheilds: {available_shields}\")"
   ]
  },
  {
   "cell_type": "code",
   "execution_count": null,
   "metadata": {},
   "outputs": [],
   "source": [
    "available_models = [model.identifier for model in client.models.list()]\n",
    "\n",
    "print(f\"Available Models: {available_models}\")"
   ]
  },
  {
   "cell_type": "code",
   "execution_count": null,
   "metadata": {},
   "outputs": [],
   "source": [
    "providers = client.providers.list()\n",
    "\n",
    "for provider in providers:\n",
    "    print(f\"{provider.provider_id} (TYPE: {provider.provider_type})\")"
   ]
  },
  {
   "cell_type": "code",
   "execution_count": null,
   "metadata": {},
   "outputs": [],
   "source": [
    "tools = client.tools.list()\n",
    "\n",
    "for tool in tools:\n",
    "    print(f\"{tool.identifier} - (Provider: {tool.provider_id})\")"
   ]
  },
  {
   "cell_type": "code",
   "execution_count": null,
   "metadata": {},
   "outputs": [],
   "source": [
    "from rich.pretty import pprint\n",
    "\n",
    "pprint(client.tools.list(\n",
    "    toolgroup_id = \"mcp::ramkumar-weather\"\n",
    "))"
   ]
  },
  {
   "cell_type": "code",
   "execution_count": null,
   "metadata": {},
   "outputs": [],
   "source": [
    "from rich.pretty import pprint\n",
    "\n",
    "pprint(client.tools.list(\n",
    "    toolgroup_id = \"mcp::ramkumar-counter-r\"\n",
    "))"
   ]
  },
  {
   "cell_type": "code",
   "execution_count": null,
   "metadata": {},
   "outputs": [],
   "source": [
    "from rich.pretty import pprint\n",
    "\n",
    "pprint(client.tools.list(\n",
    "    toolgroup_id = \"mcp::ramkumar-file-system\"\n",
    "))"
   ]
  },
  {
   "cell_type": "code",
   "execution_count": null,
   "metadata": {},
   "outputs": [],
   "source": [
    "from llama_stack_client import Agent, AgentEventLogger\n",
    "from termcolor import cprint"
   ]
  },
  {
   "cell_type": "code",
   "execution_count": null,
   "metadata": {},
   "outputs": [],
   "source": [
    "agent = Agent(\n",
    "    client,\n",
    "    model = available_models[0],\n",
    "    instructions =\"\"\"You are a helpful assistant, who answers questions professionally.\"\"\",\n",
    "    tools = [\n",
    "        \"mcp::ramkumar-counter-r\",\n",
    "        \"mcp::ramkumar-weather\",\n",
    "        \"mcp::ramkumar-file-system\",\n",
    "    ]\n",
    ")"
   ]
  },
  {
   "cell_type": "code",
   "execution_count": null,
   "metadata": {},
   "outputs": [],
   "source": [
    "user_prompts = [\n",
    "    \"Hello, How are you doing?\",\n",
    "    \"what's written in the file /contents/foo?\",\n",
    "    \"whats the current weather alerts in CA\",\n",
    "    \"can you count how many r is found in RAMKUMAR?\"\n",
    "]"
   ]
  },
  {
   "cell_type": "code",
   "execution_count": null,
   "metadata": {},
   "outputs": [],
   "source": [
    "session_id = agent.create_session(\"test-session\")\n",
    "\n",
    "print(f\"Session {session_id} Created Successfully with the Agent {agent.agent_id}\")"
   ]
  },
  {
   "cell_type": "code",
   "execution_count": null,
   "metadata": {},
   "outputs": [],
   "source": [
    "for prompt in user_prompts:\n",
    "    response = agent.create_turn(\n",
    "        messages=[\n",
    "            {\n",
    "                \"role\": \"user\",\n",
    "                \"content\": prompt\n",
    "            }\n",
    "        ],\n",
    "        session_id=session_id\n",
    "    )\n",
    "\n",
    "    for log in AgentEventLogger().log(response):\n",
    "        log.print()"
   ]
  }
 ],
 "metadata": {
  "kernelspec": {
   "display_name": "demo-app",
   "language": "python",
   "name": "python3"
  },
  "language_info": {
   "codemirror_mode": {
    "name": "ipython",
    "version": 3
   },
   "file_extension": ".py",
   "mimetype": "text/x-python",
   "name": "python",
   "nbconvert_exporter": "python",
   "pygments_lexer": "ipython3",
   "version": "3.12.9"
  }
 },
 "nbformat": 4,
 "nbformat_minor": 2
}
