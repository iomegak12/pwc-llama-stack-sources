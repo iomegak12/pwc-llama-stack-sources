{
  "nbformat": 4,
  "nbformat_minor": 0,
  "metadata": {
    "colab": {
      "provenance": [],
      "machine_shape": "hm",
      "gpuType": "A100"
    },
    "kernelspec": {
      "name": "python3",
      "display_name": "Python 3"
    },
    "language_info": {
      "name": "python"
    },
    "accelerator": "GPU"
  },
  "cells": [
    {
      "cell_type": "code",
      "execution_count": null,
      "metadata": {
        "id": "jyYK95jlMUrY"
      },
      "outputs": [],
      "source": [
        "from transformers import pipeline\n",
        "\n",
        "pipe = pipeline(\n",
        "    \"text-generation\",\n",
        "    model = \"iomegak12/llama-3-8b-chat-doctor-full\",\n",
        "    device_map=\"auto\"\n",
        ")"
      ]
    },
    {
      "cell_type": "code",
      "source": [
        "prompt = \"Hello doctor, I have bad acne. How do I get rid of it? Explain the problem in 2 lines.\"\n",
        "\n",
        "sequences = pipe(\n",
        "    f\"<s>[INST] {prompt} [/INST]\",\n",
        "    max_new_tokens=200,\n",
        "    temperature=0.2,\n",
        "    num_return_sequences=1,)\n",
        "\n",
        "print(sequences[0]['generated_text'])"
      ],
      "metadata": {
        "id": "lbUeoxlAMluw"
      },
      "execution_count": null,
      "outputs": []
    }
  ]
}