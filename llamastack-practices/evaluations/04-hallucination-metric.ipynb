{
 "cells": [
  {
   "cell_type": "code",
   "execution_count": null,
   "metadata": {},
   "outputs": [],
   "source": [
    "import opik\n",
    "\n",
    "opik.configure(use_local=True, url='http://trainingvm:5173')"
   ]
  },
  {
   "cell_type": "code",
   "execution_count": null,
   "metadata": {},
   "outputs": [],
   "source": [
    "import os\n",
    "from dotenv import load_dotenv\n",
    "\n",
    "load_dotenv()"
   ]
  },
  {
   "cell_type": "code",
   "execution_count": null,
   "metadata": {},
   "outputs": [],
   "source": [
    "# Create dataset\n",
    "import opik\n",
    "import pandas as pd\n",
    "\n",
    "client = opik.Opik()\n",
    "\n",
    "# Create dataset\n",
    "dataset = client.get_or_create_dataset(name=\"HaluEval\", description=\"HaluEval dataset\")\n",
    "\n",
    "# Insert items into dataset\n",
    "df = pd.read_parquet(\n",
    "    \"hf://datasets/pminervini/HaluEval/general/data-00000-of-00001.parquet\"\n",
    ")\n",
    "\n",
    "df = df.sample(n=50, random_state=42)\n",
    "\n",
    "dataset_records = [\n",
    "    {\n",
    "        \"input\": x[\"user_query\"],\n",
    "        \"llm_output\": x[\"chatgpt_response\"],\n",
    "        \"expected_hallucination_label\": x[\"hallucination\"],\n",
    "    }\n",
    "    for x in df.to_dict(orient=\"records\")\n",
    "]\n",
    "\n",
    "dataset.insert(dataset_records)"
   ]
  },
  {
   "cell_type": "code",
   "execution_count": null,
   "metadata": {},
   "outputs": [],
   "source": [
    "from opik.evaluation.metrics import Hallucination, Equals\n",
    "from opik.evaluation import evaluate\n",
    "from opik import Opik\n",
    "from opik.evaluation.metrics.llm_judges.hallucination.template import generate_query\n",
    "from typing import Dict\n",
    "\n",
    "\n",
    "# Define the evaluation task\n",
    "def evaluation_task(x: Dict):\n",
    "    metric = Hallucination()\n",
    "    try:\n",
    "        metric_score = metric.score(input=x[\"input\"], output=x[\"llm_output\"])\n",
    "        hallucination_score = metric_score.value\n",
    "        hallucination_reason = metric_score.reason\n",
    "    except Exception as e:\n",
    "        print(e)\n",
    "        hallucination_score = None\n",
    "        hallucination_reason = str(e)\n",
    "\n",
    "    return {\n",
    "        \"hallucination_score\": \"yes\" if hallucination_score == 1 else \"no\",\n",
    "        \"hallucination_reason\": hallucination_reason,\n",
    "    }\n",
    "\n",
    "\n",
    "# Get the dataset\n",
    "client = Opik()\n",
    "dataset = client.get_dataset(name=\"HaluEval\")\n",
    "\n",
    "# Define the scoring metric\n",
    "check_hallucinated_metric = Equals(name=\"Correct hallucination score\")\n",
    "\n",
    "# Add the prompt template as an experiment configuration\n",
    "experiment_config = {\n",
    "    \"prompt_template\": generate_query(\n",
    "        input=\"{input}\", context=\"{context}\", output=\"{output}\", few_shot_examples=[]\n",
    "    )\n",
    "}\n",
    "\n",
    "res = evaluate(\n",
    "    dataset=dataset,\n",
    "    task=evaluation_task,\n",
    "    scoring_metrics=[check_hallucinated_metric],\n",
    "    experiment_config=experiment_config,\n",
    "    scoring_key_mapping={\n",
    "        \"reference\": \"expected_hallucination_label\",\n",
    "        \"output\": \"hallucination_score\",\n",
    "    },\n",
    ")"
   ]
  }
 ],
 "metadata": {
  "kernelspec": {
   "display_name": "env",
   "language": "python",
   "name": "python3"
  },
  "language_info": {
   "codemirror_mode": {
    "name": "ipython",
    "version": 3
   },
   "file_extension": ".py",
   "mimetype": "text/x-python",
   "name": "python",
   "nbconvert_exporter": "python",
   "pygments_lexer": "ipython3",
   "version": "3.13.1"
  }
 },
 "nbformat": 4,
 "nbformat_minor": 2
}
