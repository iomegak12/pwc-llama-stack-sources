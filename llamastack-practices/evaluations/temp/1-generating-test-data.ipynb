{
 "cells": [
  {
   "cell_type": "markdown",
   "metadata": {},
   "source": [
    "#### Generating Test Data for Evaluations"
   ]
  },
  {
   "cell_type": "code",
   "execution_count": 2,
   "metadata": {},
   "outputs": [
    {
     "ename": "ImportError",
     "evalue": "cannot import name 'ComparativeAbstractQuerySynthesizer' from 'ragas.testset.synthesizers' (c:\\Users\\jdram\\.pyenv\\pyenv-win\\versions\\3.10.5\\lib\\site-packages\\ragas\\testset\\synthesizers\\__init__.py)",
     "output_type": "error",
     "traceback": [
      "\u001b[1;31m---------------------------------------------------------------------------\u001b[0m",
      "\u001b[1;31mImportError\u001b[0m                               Traceback (most recent call last)",
      "Cell \u001b[1;32mIn[2], line 11\u001b[0m\n\u001b[0;32m      9\u001b[0m \u001b[38;5;28;01mfrom\u001b[39;00m\u001b[38;5;250m \u001b[39m\u001b[38;5;21;01mragas\u001b[39;00m\u001b[38;5;21;01m.\u001b[39;00m\u001b[38;5;21;01mtestset\u001b[39;00m\u001b[38;5;250m \u001b[39m\u001b[38;5;28;01mimport\u001b[39;00m TestsetGenerator\n\u001b[0;32m     10\u001b[0m \u001b[38;5;28;01mfrom\u001b[39;00m\u001b[38;5;250m \u001b[39m\u001b[38;5;21;01mragas\u001b[39;00m\u001b[38;5;21;01m.\u001b[39;00m\u001b[38;5;21;01mdataset_schema\u001b[39;00m\u001b[38;5;250m \u001b[39m\u001b[38;5;28;01mimport\u001b[39;00m EvaluationDataset\n\u001b[1;32m---> 11\u001b[0m \u001b[38;5;28;01mfrom\u001b[39;00m\u001b[38;5;250m \u001b[39m\u001b[38;5;21;01mragas\u001b[39;00m\u001b[38;5;21;01m.\u001b[39;00m\u001b[38;5;21;01mtestset\u001b[39;00m\u001b[38;5;21;01m.\u001b[39;00m\u001b[38;5;21;01msynthesizers\u001b[39;00m\u001b[38;5;250m \u001b[39m\u001b[38;5;28;01mimport\u001b[39;00m SingleHopSpecificQuerySynthesizer, ComparativeAbstractQuerySynthesizer\n",
      "\u001b[1;31mImportError\u001b[0m: cannot import name 'ComparativeAbstractQuerySynthesizer' from 'ragas.testset.synthesizers' (c:\\Users\\jdram\\.pyenv\\pyenv-win\\versions\\3.10.5\\lib\\site-packages\\ragas\\testset\\synthesizers\\__init__.py)"
     ]
    }
   ],
   "source": [
    "import os\n",
    "import nest_asyncio\n",
    "import pandas as pd\n",
    "from dotenv import load_dotenv\n",
    "from langchain_community.document_loaders import DirectoryLoader\n",
    "from langchain_text_splitters import RecursiveCharacterTextSplitter\n",
    "from ragas.llms import LangchainLLMWrapper\n",
    "from langchain_openai import ChatOpenAI\n",
    "from ragas.testset import TestsetGenerator\n",
    "from ragas.dataset_schema import EvaluationDataset\n",
    "from ragas.testset.synthesizers import SingleHopSpecificQuerySynthesizer, ComparativeAbstractQuerySynthesizer"
   ]
  },
  {
   "cell_type": "code",
   "execution_count": null,
   "metadata": {},
   "outputs": [],
   "source": [
    "nest_asyncio.apply()\n",
    "\n",
    "load_dotenv()\n",
    "\n",
    "openai_api_key = os.getenv(\"OPENAI_API_KEY\")\n",
    "\n",
    "if openai_api_key is None:\n",
    "    raise ValueError(\"OpenAI API Key not found. Please ensure you have a .env file with 'OPENAI_API_KEY'.\")"
   ]
  },
  {
   "cell_type": "code",
   "execution_count": null,
   "metadata": {},
   "outputs": [],
   "source": [
    "# Check if the Weave repository already exists; if not, download it using sparse checkout\n",
    "repo_dir = \"weave_docs\"\n",
    "\n",
    "if not os.path.exists(repo_dir):\n",
    "    os.system(f\"git init {repo_dir}\")\n",
    "    os.chdir(repo_dir)\n",
    "    os.system(\"git remote add origin https://github.com/wandb/weave.git\")\n",
    "    os.system(\"git sparse-checkout init --cone\")\n",
    "    os.system(\"git sparse-checkout set docs/docs/guides/tracking\")\n",
    "    os.system(\"git pull origin master\")\n",
    "    os.chdir(\"..\")\n",
    "else:\n",
    "    print(f\"{repo_dir} already exists, skipping download.\")"
   ]
  },
  {
   "cell_type": "code",
   "execution_count": null,
   "metadata": {},
   "outputs": [],
   "source": [
    "path = os.path.join(repo_dir, \"docs/docs/guides/tracking\")\n",
    "loader = DirectoryLoader(path, glob=\"**/*.md\")\n",
    "docs = loader.load()"
   ]
  },
  {
   "cell_type": "code",
   "execution_count": null,
   "metadata": {},
   "outputs": [],
   "source": [
    "\n",
    "text_splitter = RecursiveCharacterTextSplitter(chunk_size=1000, chunk_overlap=200)\n",
    "splits = text_splitter.split_documents(docs)"
   ]
  },
  {
   "cell_type": "code",
   "execution_count": null,
   "metadata": {},
   "outputs": [],
   "source": [
    "evaluator_llm = LangchainLLMWrapper(ChatOpenAI(model=\"gpt-4o\"))\n",
    "generator = TestsetGenerator(llm=evaluator_llm)\n",
    "\n",
    "query_distribution = [\n",
    "    (ComparativeAbstractQuerySynthesizer(llm=evaluator_llm), 0.5),\n",
    "    (SingleHopSpecificQuerySynthesizer(llm=evaluator_llm), 0.5),\n",
    "]\n",
    "\n",
    "dataset = generator.generate_with_langchain_docs(\n",
    "    splits, \n",
    "    testset_size=30, \n",
    "    query_distribution=query_distribution\n",
    ")"
   ]
  },
  {
   "cell_type": "code",
   "execution_count": null,
   "metadata": {},
   "outputs": [],
   "source": [
    "df = dataset.to_pandas()\n",
    "\n",
    "print(df)\n"
   ]
  },
  {
   "cell_type": "code",
   "execution_count": null,
   "metadata": {},
   "outputs": [],
   "source": [
    "output_csv_path = \"generated_testset.csv\"\n",
    "\n",
    "df.to_csv(output_csv_path, index=False)\n",
    "\n",
    "print(f\"Generated testset saved to {output_csv_path}\")"
   ]
  }
 ],
 "metadata": {
  "kernelspec": {
   "display_name": "Python 3",
   "language": "python",
   "name": "python3"
  },
  "language_info": {
   "codemirror_mode": {
    "name": "ipython",
    "version": 3
   },
   "file_extension": ".py",
   "mimetype": "text/x-python",
   "name": "python",
   "nbconvert_exporter": "python",
   "pygments_lexer": "ipython3",
   "version": "3.10.5"
  }
 },
 "nbformat": 4,
 "nbformat_minor": 2
}
