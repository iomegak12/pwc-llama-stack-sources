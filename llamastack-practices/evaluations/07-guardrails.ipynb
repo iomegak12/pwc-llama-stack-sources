{
 "cells": [
  {
   "cell_type": "code",
   "execution_count": null,
   "metadata": {},
   "outputs": [],
   "source": [
    "%pip install --upgrade opik guardrails-ai"
   ]
  },
  {
   "cell_type": "code",
   "execution_count": null,
   "metadata": {},
   "outputs": [],
   "source": [
    "import opik\n",
    "\n",
    "opik.configure(use_local=True, url='http://172.23.102.164:5173')"
   ]
  },
  {
   "cell_type": "code",
   "execution_count": null,
   "metadata": {},
   "outputs": [],
   "source": [
    "import os\n",
    "from dotenv import load_dotenv\n",
    "\n",
    "load_dotenv()"
   ]
  },
  {
   "cell_type": "code",
   "execution_count": null,
   "metadata": {},
   "outputs": [],
   "source": [
    "!which guardrails"
   ]
  },
  {
   "cell_type": "code",
   "execution_count": null,
   "metadata": {},
   "outputs": [],
   "source": [
    "import sys\n",
    "\n",
    "\n",
    "def find_module(method_name):\n",
    "  for module in sys.modules:\n",
    "    print(\"checking module: \", module)\n",
    "    if hasattr(sys.modules[module], method_name):\n",
    "      return module\n",
    "    # return None\n",
    "\n",
    "module_name = find_module(\"ProfanityFree\")\n",
    "\n",
    "print(f\"The ProfanityFree method is located in the {module_name} library.\")"
   ]
  },
  {
   "cell_type": "code",
   "execution_count": null,
   "metadata": {},
   "outputs": [],
   "source": [
    "import guardrails.hub as hub\n",
    "\n",
    "\n",
    "hub_init = hub.__file__\n",
    "\n",
    "print(\"guardrails hub init is located at: \", hub_init)\n",
    "\n",
    "with open(hub_init) as hub_init_file:\n",
    "  print(\"\\n\")\n",
    "  print(hub_init_file.read())"
   ]
  },
  {
   "cell_type": "code",
   "execution_count": null,
   "metadata": {},
   "outputs": [],
   "source": [
    "!guardrails hub install hub://guardrails/politeness_check"
   ]
  },
  {
   "cell_type": "code",
   "execution_count": null,
   "metadata": {},
   "outputs": [],
   "source": [
    "from guardrails import Guard, OnFailAction\n",
    "from guardrails.hub import PolitenessCheck\n",
    "\n",
    "from opik.integrations.guardrails import track_guardrails\n",
    "\n",
    "politeness_check = PolitenessCheck(\n",
    "    llm_callable=\"gpt-3.5-turbo\", on_fail=OnFailAction.NOOP\n",
    ")\n",
    "\n",
    "guard: Guard = Guard().use_many(politeness_check)\n",
    "guard = track_guardrails(guard, project_name=\"guardrails-integration-example\")\n",
    "\n",
    "guard.validate(\n",
    "    \"Would you be so kind to pass me a cup of tea?\",\n",
    ")\n",
    "guard.validate(\n",
    "    \"Shut your mouth up and give me the tea.\",\n",
    ");"
   ]
  }
 ],
 "metadata": {
  "kernelspec": {
   "display_name": "Python 3",
   "language": "python",
   "name": "python3"
  },
  "language_info": {
   "codemirror_mode": {
    "name": "ipython",
    "version": 3
   },
   "file_extension": ".py",
   "mimetype": "text/x-python",
   "name": "python",
   "nbconvert_exporter": "python",
   "pygments_lexer": "ipython3",
   "version": "3.12.9"
  }
 },
 "nbformat": 4,
 "nbformat_minor": 2
}
