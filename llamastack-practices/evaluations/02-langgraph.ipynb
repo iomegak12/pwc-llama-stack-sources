{
 "cells": [
  {
   "cell_type": "code",
   "execution_count": 1,
   "metadata": {},
   "outputs": [],
   "source": [
    "# We will start by creating simple functions to classify the input question and handle the greeting and search questions.\n",
    "def classify(question: str) -> str:\n",
    "    return \"greeting\" if question.startswith(\"Hello\") else \"search\"\n",
    "\n",
    "\n",
    "def classify_input_node(state):\n",
    "    question = state.get(\"question\", \"\").strip()\n",
    "    classification = classify(question)  # Assume a function that classifies the input\n",
    "    return {\"classification\": classification}\n",
    "\n",
    "\n",
    "def handle_greeting_node(state):\n",
    "    return {\"response\": \"Hello! How can I help you today?\"}\n",
    "\n",
    "\n",
    "def handle_search_node(state):\n",
    "    question = state.get(\"question\", \"\").strip()\n",
    "    search_result = f\"Search result for '{question}'\"\n",
    "    return {\"response\": search_result}"
   ]
  },
  {
   "cell_type": "code",
   "execution_count": 2,
   "metadata": {},
   "outputs": [],
   "source": [
    "from langgraph.graph import StateGraph, END\n",
    "\n",
    "from typing import TypedDict, Optional\n",
    "\n",
    "\n",
    "class GraphState(TypedDict):\n",
    "    question: Optional[str] = None\n",
    "    classification: Optional[str] = None\n",
    "    response: Optional[str] = None\n",
    "\n",
    "\n",
    "workflow = StateGraph(GraphState)\n",
    "workflow.add_node(\"classify_input\", classify_input_node)\n",
    "workflow.add_node(\"handle_greeting\", handle_greeting_node)\n",
    "workflow.add_node(\"handle_search\", handle_search_node)\n",
    "\n",
    "\n",
    "def decide_next_node(state):\n",
    "    return (\n",
    "        \"handle_greeting\"\n",
    "        if state.get(\"classification\") == \"greeting\"\n",
    "        else \"handle_search\"\n",
    "    )\n",
    "\n",
    "\n",
    "workflow.add_conditional_edges(\n",
    "    \"classify_input\",\n",
    "    decide_next_node,\n",
    "    {\"handle_greeting\": \"handle_greeting\", \"handle_search\": \"handle_search\"},\n",
    ")\n",
    "\n",
    "workflow.set_entry_point(\"classify_input\")\n",
    "workflow.add_edge(\"handle_greeting\", END)\n",
    "workflow.add_edge(\"handle_search\", END)\n",
    "\n",
    "app = workflow.compile()"
   ]
  },
  {
   "cell_type": "code",
   "execution_count": 3,
   "metadata": {},
   "outputs": [
    {
     "data": {
      "image/png": "[encoded data removed]",
      "text/plain": [
       "<IPython.core.display.Image object>"
      ]
     },
     "metadata": {},
     "output_type": "display_data"
    }
   ],
   "source": [
    "# Display the graph\n",
    "try:\n",
    "    from IPython.display import Image, display\n",
    "\n",
    "    display(Image(app.get_graph().draw_mermaid_png()))\n",
    "except Exception:\n",
    "    # This requires some extra dependencies and is optional\n",
    "    pass"
   ]
  },
  {
   "cell_type": "code",
   "execution_count": 4,
   "metadata": {},
   "outputs": [
    {
     "name": "stderr",
     "output_type": "stream",
     "text": [
      "OPIK: Started logging traces to the \"Default Project\" project at http://trainingvm:5173/api/v1/session/redirect/projects/?trace_id=0195c567-3e91-7786-8f91-9ed89b270432&path=aHR0cDovL3RyYWluaW5ndm06NTE3My9hcGkv.\n"
     ]
    },
    {
     "name": "stdout",
     "output_type": "stream",
     "text": [
      "{'question': 'Hello, how are you?', 'classification': 'greeting', 'response': 'Hello! How can I help you today?'}\n"
     ]
    }
   ],
   "source": [
    "from opik.integrations.langchain import OpikTracer\n",
    "\n",
    "tracer = OpikTracer(graph=app.get_graph(xray=True))\n",
    "inputs = {\"question\": \"Hello, how are you?\"}\n",
    "result = app.invoke(inputs, config={\"callbacks\": [tracer]})\n",
    "print(result)"
   ]
  }
 ],
 "metadata": {
  "kernelspec": {
   "display_name": "Python 3",
   "language": "python",
   "name": "python3"
  },
  "language_info": {
   "codemirror_mode": {
    "name": "ipython",
    "version": 3
   },
   "file_extension": ".py",
   "mimetype": "text/x-python",
   "name": "python",
   "nbconvert_exporter": "python",
   "pygments_lexer": "ipython3",
   "version": "3.13.1"
  }
 },
 "nbformat": 4,
 "nbformat_minor": 2
}
