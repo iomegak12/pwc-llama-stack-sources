{
 "cells": [
  {
   "cell_type": "markdown",
   "metadata": {},
   "source": [
    "#### Orchestrator and Worker - Agentic Design Pattern"
   ]
  },
  {
   "cell_type": "code",
   "execution_count": null,
   "metadata": {},
   "outputs": [],
   "source": [
    "import os\n",
    "\n",
    "from llama_stack_client import LlamaStackClient, Agent, AgentEventLogger\n",
    "from termcolor import colored\n",
    "from dotenv import load_dotenv\n",
    "from pydantic import BaseModel\n",
    "\n",
    "import json\n",
    "from rich.pretty import pprint\n",
    "from uuid import uuid4"
   ]
  },
  {
   "cell_type": "code",
   "execution_count": null,
   "metadata": {},
   "outputs": [],
   "source": [
    "load_dotenv()"
   ]
  },
  {
   "cell_type": "code",
   "execution_count": null,
   "metadata": {},
   "outputs": [],
   "source": [
    "host = os.environ[\"TOGETHER_URL\"]\n",
    "together_api_key = os.environ[\"TOGETHER_API_KEY\"]\n",
    "\n",
    "client = LlamaStackClient(\n",
    "    base_url=host,\n",
    "    provider_data={\n",
    "        \"tavily_search_api_key\": os.getenv(\"TAVILY_SEARCH_API_KEY\"),\n",
    "        \"together_api_key\": together_api_key,\n",
    "    },\n",
    ")"
   ]
  },
  {
   "cell_type": "code",
   "execution_count": null,
   "metadata": {},
   "outputs": [],
   "source": [
    "MODEL_ID = \"meta-llama/Llama-3.3-70B-Instruct\"\n",
    "\n",
    "base_agent_config = dict(\n",
    "    model=MODEL_ID,\n",
    "    instructions=\"You are a helpful assistant.\",\n",
    "    sampling_params={\n",
    "        \"strategy\": {\"type\": \"top_p\", \"temperature\": 1.0, \"top_p\": 0.9},\n",
    "    },\n",
    ")"
   ]
  },
  {
   "cell_type": "code",
   "execution_count": null,
   "metadata": {},
   "outputs": [],
   "source": [
    "from typing import List, Dict\n",
    "\n",
    "class OrchestratorOutputSchema(BaseModel):\n",
    "    analysis: str\n",
    "    tasks: List[Dict[str, str]]\n"
   ]
  },
  {
   "cell_type": "code",
   "execution_count": null,
   "metadata": {},
   "outputs": [],
   "source": [
    "orchestrator_agent_config = {\n",
    "    **base_agent_config,\n",
    "    \"instructions\": \"\"\"Your job is to analyize the task provided by the user and break it down into 2-3 distinct approaches:\n",
    "\n",
    "    Return your response in the following JSON format:\n",
    "    {{\n",
    "        \"analysis\": \"<Your understanding of the task and which variations would be valuable. Focus on how each approach serves different aspects of the task.>\",\n",
    "        \"tasks\": [\n",
    "            {{\n",
    "                \"type\": \"formal\",\n",
    "                \"description\": \"Write a precise, technical version that emphasizes specifications\"\n",
    "            }},\n",
    "            {{\n",
    "                \"type\": \"conversational\",\n",
    "                \"description\": \"Write an engaging, friendly version that connects with readers\"\n",
    "            }}\n",
    "        ]\n",
    "    }}\n",
    "    \"\"\",\n",
    "    \"response_format\": {\n",
    "        \"type\": \"json_schema\",\n",
    "        \"json_schema\": OrchestratorOutputSchema.model_json_schema()\n",
    "    }\n",
    "}\n",
    "\n",
    "worker_agent_config = {\n",
    "    **base_agent_config,\n",
    "    \"instructions\": \"\"\"You will be given a task guideline. Generate content based on the provided\n",
    "    task, following the style and guideline descriptions. \n",
    "\n",
    "    Return your response in this format:\n",
    "\n",
    "    Response: Your content here, maintaining the specified style and fully addressing requirements.\n",
    "    \"\"\",\n",
    "}\n"
   ]
  },
  {
   "cell_type": "code",
   "execution_count": null,
   "metadata": {},
   "outputs": [],
   "source": [
    "def orchestrator_worker_workflow(task, context):\n",
    "    # single orchestrator agent\n",
    "    orchestrator_agent = Agent(client, **orchestrator_agent_config)\n",
    "    orchestrator_session_id = orchestrator_agent.create_session(session_name=f\"orchestrator_agent_{uuid4()}\")\n",
    "\n",
    "    orchestrator_response = orchestrator_agent.create_turn(\n",
    "        messages=[{\"role\": \"user\", \"content\": f\"Your task is to {task}. Here is some context: {context}\"}],\n",
    "        stream=False,\n",
    "        session_id=orchestrator_session_id,\n",
    "    )\n",
    "\n",
    "    orchestrator_result = json.loads(orchestrator_response.output_message.content)\n",
    "    pprint(f\"[bold cyan] Orchestrator Analysis: [/bold cyan]\")\n",
    "    pprint(orchestrator_result)\n",
    "\n",
    "    workers = {}\n",
    "    # spawn multiple worker agents\n",
    "    for task in orchestrator_result[\"tasks\"]:\n",
    "        worker_agent = Agent(client, **worker_agent_config)\n",
    "        worker_session_id = worker_agent.create_session(session_name=f\"worker_agent_{uuid4()}\")\n",
    "        workers[task[\"type\"]] = worker_agent\n",
    "    \n",
    "        worker_response = worker_agent.create_turn(\n",
    "            messages=[{\"role\": \"user\", \"content\": f\"Your task is to {task['description']}.\"}],\n",
    "            stream=False,\n",
    "            session_id=worker_session_id,\n",
    "        )\n",
    "        \n",
    "        pprint(f\"[bold yellow] >>> Worker {task['type']} <<< [/bold yellow]\")\n",
    "        pprint(worker_response.output_message.content)\n",
    "    \n",
    "    return orchestrator_agent, workers"
   ]
  },
  {
   "cell_type": "code",
   "execution_count": null,
   "metadata": {},
   "outputs": [],
   "source": [
    "orchestrator_agent, workers = orchestrator_worker_workflow(\n",
    "    task=\"Write a product description for a new eco-friendly water bottle\",\n",
    "    context={\n",
    "        \"target_audience\": \"environmentally conscious millennials\",\n",
    "        \"key_features\": [\"plastic-free\", \"insulated\", \"lifetime warranty\"]\n",
    "    }\n",
    ")"
   ]
  },
  {
   "cell_type": "code",
   "execution_count": null,
   "metadata": {},
   "outputs": [],
   "source": [
    "orchestrator_session = client.agents.session.retrieve(\n",
    "    session_id=orchestrator_agent.session_id, agent_id=orchestrator_agent.agent_id)\n",
    "\n",
    "pprint(orchestrator_session.to_dict())\n",
    "\n",
    "for worker_type, worker in workers.items():\n",
    "    worker_session = client.agents.session.retrieve(\n",
    "        session_id=worker.session_id, agent_id=worker.agent_id)\n",
    "    print(f\"Worker {worker_type} Session:\")\n",
    "    pprint(worker_session.to_dict())"
   ]
  }
 ],
 "metadata": {
  "kernelspec": {
   "display_name": "demo-app",
   "language": "python",
   "name": "python3"
  },
  "language_info": {
   "codemirror_mode": {
    "name": "ipython",
    "version": 3
   },
   "file_extension": ".py",
   "mimetype": "text/x-python",
   "name": "python",
   "nbconvert_exporter": "python",
   "pygments_lexer": "ipython3",
   "version": "3.12.9"
  }
 },
 "nbformat": 4,
 "nbformat_minor": 2
}
