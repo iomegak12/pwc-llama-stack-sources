{
 "cells": [
  {
   "cell_type": "markdown",
   "metadata": {},
   "source": [
    "### Routing - Agentic Design Pattern"
   ]
  },
  {
   "cell_type": "code",
   "execution_count": null,
   "metadata": {},
   "outputs": [],
   "source": [
    "import os\n",
    "\n",
    "from llama_stack_client import LlamaStackClient, Agent, AgentEventLogger\n",
    "from termcolor import colored\n",
    "from dotenv import load_dotenv\n",
    "from pydantic import BaseModel\n",
    "\n",
    "import json\n",
    "from rich.pretty import pprint\n",
    "from uuid import uuid4"
   ]
  },
  {
   "cell_type": "code",
   "execution_count": null,
   "metadata": {},
   "outputs": [],
   "source": [
    "load_dotenv()"
   ]
  },
  {
   "cell_type": "code",
   "execution_count": null,
   "metadata": {},
   "outputs": [],
   "source": [
    "host = os.environ[\"TOGETHER_URL\"]\n",
    "together_api_key = os.environ[\"TOGETHER_API_KEY\"]\n",
    "\n",
    "client = LlamaStackClient(\n",
    "    base_url=host,\n",
    "    provider_data={\n",
    "        \"tavily_search_api_key\": os.getenv(\"TAVILY_SEARCH_API_KEY\"),\n",
    "        \"together_api_key\": together_api_key,\n",
    "    },\n",
    ")"
   ]
  },
  {
   "cell_type": "code",
   "execution_count": null,
   "metadata": {},
   "outputs": [],
   "source": [
    "MODEL_ID = \"meta-llama/Llama-3.3-70B-Instruct\"\n",
    "\n",
    "base_agent_config = dict(\n",
    "    model=MODEL_ID,\n",
    "    instructions=\"You are a helpful assistant.\",\n",
    "    sampling_params={\n",
    "        \"strategy\": {\n",
    "            \"type\": \"top_p\",\n",
    "            \"temperature\": 1.0,\n",
    "            \"top_p\": 0.9},\n",
    "    },\n",
    ")"
   ]
  },
  {
   "cell_type": "code",
   "execution_count": null,
   "metadata": {},
   "outputs": [],
   "source": [
    "billing_agent_config = {\n",
    "    **base_agent_config,\n",
    "    \"instructions\": \"\"\"You are a billing support specialist. Follow these guidelines:\n",
    "    1. Always start with \"Billing Support Response:\"\n",
    "    2. First acknowledge the specific billing issue\n",
    "    3. Explain any charges or discrepancies clearly\n",
    "    4. List concrete next steps with timeline\n",
    "    5. End with payment options if relevant\n",
    "    \n",
    "    Keep responses professional but friendly.\n",
    "    \"\"\",\n",
    "}\n",
    "\n",
    "technical_agent_config = {\n",
    "    **base_agent_config,\n",
    "    \"instructions\": \"\"\"You are a technical support engineer. Follow these guidelines:\n",
    "    1. Always start with \"Technical Support Response:\"\n",
    "    2. List exact steps to resolve the issue\n",
    "    3. Include system requirements if relevant\n",
    "    4. Provide workarounds for common problems\n",
    "    5. End with escalation path if needed\n",
    "    \n",
    "    Use clear, numbered steps and technical details.\n",
    "    \"\"\",\n",
    "}\n",
    "\n",
    "account_agent_config = {\n",
    "    **base_agent_config,\n",
    "    \"instructions\": \"\"\"You are an account security specialist. Follow these guidelines:\n",
    "    1. Always start with \"Account Support Response:\"\n",
    "    2. Prioritize account security and verification\n",
    "    3. Provide clear steps for account recovery/changes\n",
    "    4. Include security tips and warnings\n",
    "    5. Set clear expectations for resolution time\n",
    "    \n",
    "    Maintain a serious, security-focused tone.\n",
    "    \"\"\",\n",
    "}\n",
    "\n",
    "product_agent_config = {\n",
    "    **base_agent_config,\n",
    "    \"instructions\": \"\"\"You are a product specialist. Follow these guidelines:\n",
    "    1. Always start with \"Product Support Response:\"\n",
    "    2. Focus on feature education and best practices\n",
    "    3. Include specific examples of usage\n",
    "    4. Link to relevant documentation sections\n",
    "    5. Suggest related features that might help\n",
    "    \n",
    "    Be educational and encouraging in tone.\n",
    "    \"\"\",\n",
    "}"
   ]
  },
  {
   "cell_type": "code",
   "execution_count": null,
   "metadata": {},
   "outputs": [],
   "source": [
    "specialized_agents = {\n",
    "    \"billing\": Agent(client, **billing_agent_config),\n",
    "    \"technical\": Agent(client, **technical_agent_config),\n",
    "    \"account\": Agent(client, **account_agent_config),\n",
    "    \"product\": Agent(client, **product_agent_config),\n",
    "}"
   ]
  },
  {
   "cell_type": "code",
   "execution_count": null,
   "metadata": {},
   "outputs": [],
   "source": [
    "class OutputSchema(BaseModel):\n",
    "    reasoning: str\n",
    "    support_team: str\n"
   ]
  },
  {
   "cell_type": "code",
   "execution_count": null,
   "metadata": {},
   "outputs": [],
   "source": [
    "routing_agent_config = {\n",
    "    **base_agent_config,\n",
    "    \"instructions\": f\"\"\"You are a routing agent. Analyze the user's input and select the most appropriate support team from these options: \n",
    "\n",
    "    {list(specialized_agents.keys())}\n",
    "\n",
    "    Return the name of the support team in JSON format.\n",
    "\n",
    "    First explain your reasoning, then provide your selection in this JSON format: \n",
    "    {{\n",
    "        \"reasoning\": \"<your explanation>\",\n",
    "        \"support_team\": \"<support team name>\"\n",
    "    }}\n",
    "\n",
    "    Note the support team name can only be one of the following: {specialized_agents.keys()}\n",
    "    \"\"\",\n",
    "    \"response_format\": {\n",
    "        \"type\": \"json_schema\",\n",
    "        \"json_schema\": OutputSchema.model_json_schema()\n",
    "    }\n",
    "}\n"
   ]
  },
  {
   "cell_type": "code",
   "execution_count": null,
   "metadata": {},
   "outputs": [],
   "source": [
    "routing_agent = Agent(client, **routing_agent_config)\n"
   ]
  },
  {
   "cell_type": "code",
   "execution_count": null,
   "metadata": {},
   "outputs": [],
   "source": [
    "routing_agent_session_id = routing_agent.create_session(session_name=f\"routing_agent_{uuid4()}\")\n",
    "specialized_agents_session_ids = {\n",
    "    \"billing\": specialized_agents[\"billing\"].create_session(session_name=f\"billing_agent_{uuid4()}\"),\n",
    "    \"technical\": specialized_agents[\"technical\"].create_session(session_name=f\"technical_agent_{uuid4()}\"),\n",
    "    \"account\": specialized_agents[\"account\"].create_session(session_name=f\"account_agent_{uuid4()}\"),\n",
    "    \"product\": specialized_agents[\"product\"].create_session(session_name=f\"product_agent_{uuid4()}\"),\n",
    "}\n"
   ]
  },
  {
   "cell_type": "code",
   "execution_count": null,
   "metadata": {},
   "outputs": [],
   "source": [
    "def process_user_query(query):\n",
    "    routing_response = routing_agent.create_turn(\n",
    "        messages=[\n",
    "            {\n",
    "                \"role\": \"user\",\n",
    "                \"content\": query,\n",
    "            }\n",
    "        ],\n",
    "        session_id=routing_agent_session_id,\n",
    "        stream=False,\n",
    "    )\n",
    "    try:\n",
    "        routing_result = json.loads(routing_response.output_message.content)\n",
    "        \n",
    "        pprint(f\"🔀 [cyan] Routing Result: {routing_result['reasoning']} [/cyan]\")\n",
    "        pprint(f\"🔀 [cyan] Routing to {routing_result['support_team']}... [/cyan]\")\n",
    "\n",
    "        return specialized_agents[routing_result[\"support_team\"]].create_turn(\n",
    "            messages=[\n",
    "                {\"role\": \"user\", \"content\": query}\n",
    "            ],\n",
    "            session_id=specialized_agents_session_ids[routing_result[\"support_team\"]],\n",
    "            stream=False,\n",
    "        )\n",
    "    except json.JSONDecodeError:\n",
    "        print(\"Error: Invalid JSON response from routing agent\")\n",
    "        return None"
   ]
  },
  {
   "cell_type": "code",
   "execution_count": null,
   "metadata": {},
   "outputs": [],
   "source": [
    "tickets = [\n",
    "    \"\"\"Subject: Can't access my account\n",
    "    Message: Hi, I've been trying to log in for the past hour but keep getting an 'invalid password' error. \n",
    "    I'm sure I'm using the right password. Can you help me regain access? This is urgent as I need to \n",
    "    submit a report by end of day.\n",
    "    - John\"\"\",\n",
    "\n",
    "    \"\"\"Subject: Unexpected charge on my card\n",
    "    Message: Hello, I just noticed a charge of $49.99 on my credit card from your company, but I thought\n",
    "    I was on the $29.99 plan. Can you explain this charge and adjust it if it's a mistake?\n",
    "    Thanks,\n",
    "    Sarah\"\"\",\n",
    "\n",
    "    \"\"\"Subject: How to export data?\n",
    "    Message: I need to export all my project data to Excel. I've looked through the docs but can't\n",
    "    figure out how to do a bulk export. Is this possible? If so, could you walk me through the steps?\n",
    "    Best regards,\n",
    "    Mike\"\"\"\n",
    "]"
   ]
  },
  {
   "cell_type": "code",
   "execution_count": null,
   "metadata": {},
   "outputs": [],
   "source": [
    "for i, ticket in enumerate(tickets):\n",
    "    print(f\"========= Processing ticket {i+1}: =========\")\n",
    "    response = process_user_query(ticket)\n",
    "    print(response.output_message.content)\n",
    "    print(\"\\n\")"
   ]
  },
  {
   "cell_type": "code",
   "execution_count": null,
   "metadata": {},
   "outputs": [],
   "source": [
    "routing_agent_session = client.agents.session.retrieve(\n",
    "    session_id=routing_agent_session_id, agent_id=routing_agent.agent_id)\n",
    "\n",
    "print(\"Routing Agent Session:\")\n",
    "pprint(routing_agent_session.to_dict())\n",
    "\n",
    "for specialized_agent_type, specialized_agent in specialized_agents.items():\n",
    "    specialized_agent_session = client.agents.session.retrieve(session_id=specialized_agent.session_id, agent_id=specialized_agent.agent_id)\n",
    "    \n",
    "    print(f\"Specialized Agent {specialized_agent_type} Session:\")\n",
    "    pprint(specialized_agent_session.to_dict())"
   ]
  }
 ],
 "metadata": {
  "kernelspec": {
   "display_name": "demo-app",
   "language": "python",
   "name": "python3"
  },
  "language_info": {
   "codemirror_mode": {
    "name": "ipython",
    "version": 3
   },
   "file_extension": ".py",
   "mimetype": "text/x-python",
   "name": "python",
   "nbconvert_exporter": "python",
   "pygments_lexer": "ipython3",
   "version": "3.12.9"
  }
 },
 "nbformat": 4,
 "nbformat_minor": 2
}
