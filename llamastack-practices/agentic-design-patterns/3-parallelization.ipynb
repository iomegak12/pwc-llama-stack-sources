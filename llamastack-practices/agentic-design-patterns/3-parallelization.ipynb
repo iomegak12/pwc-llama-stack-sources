{
 "cells": [
  {
   "cell_type": "markdown",
   "metadata": {},
   "source": [
    "#### Parallelization - Agentic Design Pattern"
   ]
  },
  {
   "cell_type": "code",
   "execution_count": null,
   "metadata": {},
   "outputs": [],
   "source": [
    "import os\n",
    "\n",
    "from llama_stack_client import LlamaStackClient, Agent, AgentEventLogger\n",
    "from termcolor import colored\n",
    "from dotenv import load_dotenv\n",
    "from pydantic import BaseModel\n",
    "\n",
    "import json\n",
    "from rich.pretty import pprint\n",
    "from uuid import uuid4"
   ]
  },
  {
   "cell_type": "code",
   "execution_count": null,
   "metadata": {},
   "outputs": [],
   "source": [
    "load_dotenv()"
   ]
  },
  {
   "cell_type": "code",
   "execution_count": null,
   "metadata": {},
   "outputs": [],
   "source": [
    "host = os.environ[\"TOGETHER_URL\"]\n",
    "together_api_key = os.environ[\"TOGETHER_API_KEY\"]\n",
    "\n",
    "client = LlamaStackClient(\n",
    "    base_url=host,\n",
    "    provider_data={\n",
    "        \"tavily_search_api_key\": os.getenv(\"TAVILY_SEARCH_API_KEY\"),\n",
    "        \"together_api_key\": together_api_key,\n",
    "    },\n",
    ")"
   ]
  },
  {
   "cell_type": "code",
   "execution_count": null,
   "metadata": {},
   "outputs": [],
   "source": [
    "MODEL_ID = \"meta-llama/Llama-3.3-70B-Instruct\"\n",
    "\n",
    "base_agent_config = dict(\n",
    "    model=MODEL_ID,\n",
    "    instructions=\"You are a helpful assistant.\",\n",
    "    sampling_params={\n",
    "        \"strategy\": {\"type\": \"top_p\", \"temperature\": 1.0, \"top_p\": 0.9},\n",
    "    },\n",
    ")"
   ]
  },
  {
   "cell_type": "code",
   "execution_count": null,
   "metadata": {},
   "outputs": [],
   "source": [
    "from concurrent.futures import ThreadPoolExecutor\n",
    "from typing import List\n"
   ]
  },
  {
   "cell_type": "code",
   "execution_count": null,
   "metadata": {},
   "outputs": [],
   "source": [
    "\n",
    "worker_agent_config = {\n",
    "    **base_agent_config,\n",
    "    \"instructions\": \"\"\"You are a helpful assistant that can analyze the impact of market changes on stakeholders.\n",
    "    Analyze how market changes will impact this stakeholder group.\n",
    "    Provide specific impacts and recommended actions.\n",
    "    Format with clear sections and priorities.\n",
    "    \"\"\",\n",
    "}"
   ]
  },
  {
   "cell_type": "code",
   "execution_count": null,
   "metadata": {},
   "outputs": [],
   "source": [
    "def create_worker_task(task: str):\n",
    "    worker_agent = Agent(client, **worker_agent_config)\n",
    "    worker_session_id = worker_agent.create_session(session_name=f\"worker_agent_{uuid4()}\")\n",
    "    task_response = worker_agent.create_turn(\n",
    "        messages=[{\"role\": \"user\", \"content\": task}],\n",
    "        stream=False,\n",
    "        session_id=worker_session_id,\n",
    "    )\n",
    "    return {\n",
    "        \"worker_agent\": worker_agent,\n",
    "        \"task_response\": task_response.output_message.content,\n",
    "    }"
   ]
  },
  {
   "cell_type": "code",
   "execution_count": null,
   "metadata": {},
   "outputs": [],
   "source": [
    "def parallelization_workflow(tasks: List[str]):\n",
    "    if isinstance(client, LlamaStackClient):\n",
    "        with ThreadPoolExecutor(max_workers=len(tasks)) as executor:\n",
    "            futures = [executor.submit(create_worker_task, task) for task in tasks]\n",
    "            results = [future.result() for future in futures]\n",
    "            \n",
    "            return results\n",
    "    else:\n",
    "        results = []\n",
    "        \n",
    "        for task in tasks:\n",
    "            result = create_worker_task(task)\n",
    "            results.append(result)\n",
    "            \n",
    "        return results\n"
   ]
  },
  {
   "cell_type": "code",
   "execution_count": null,
   "metadata": {},
   "outputs": [],
   "source": [
    "stakeholders = [\n",
    "    \"\"\"Customers:\n",
    "    - Price sensitive\n",
    "    - Want better tech\n",
    "    - Environmental concerns\"\"\",\n",
    "    \n",
    "    \"\"\"Employees:\n",
    "    - Job security worries\n",
    "    - Need new skills\n",
    "    - Want clear direction\"\"\",\n",
    "    \n",
    "    \"\"\"Investors:\n",
    "    - Expect growth\n",
    "    - Want cost control\n",
    "    - Risk concerns\"\"\",\n",
    "    \n",
    "    \"\"\"Suppliers:\n",
    "    - Capacity constraints\n",
    "    - Price pressures\n",
    "    - Tech transitions\"\"\"\n",
    "]"
   ]
  },
  {
   "cell_type": "code",
   "execution_count": null,
   "metadata": {},
   "outputs": [],
   "source": [
    "results = parallelization_workflow(stakeholders)\n",
    "\n",
    "for i, result in enumerate(results):\n",
    "    print(f\"========= Stakeholder {i+1}: =========\")\n",
    "    print(result[\"task_response\"])\n",
    "    print(\"\\n\")"
   ]
  },
  {
   "cell_type": "code",
   "execution_count": null,
   "metadata": {},
   "outputs": [],
   "source": [
    "for i, result in enumerate(results):\n",
    "    print(f\"========= Worker Agent {i+1}: =========\")\n",
    "    \n",
    "    session_response = client.agents.session.retrieve(\n",
    "        session_id=result[\"worker_agent\"].session_id, agent_id=result[\"worker_agent\"].agent_id)\n",
    "    \n",
    "    pprint(session_response.to_dict())\n"
   ]
  }
 ],
 "metadata": {
  "kernelspec": {
   "display_name": "demo-app",
   "language": "python",
   "name": "python3"
  },
  "language_info": {
   "codemirror_mode": {
    "name": "ipython",
    "version": 3
   },
   "file_extension": ".py",
   "mimetype": "text/x-python",
   "name": "python",
   "nbconvert_exporter": "python",
   "pygments_lexer": "ipython3",
   "version": "3.12.9"
  }
 },
 "nbformat": 4,
 "nbformat_minor": 2
}
