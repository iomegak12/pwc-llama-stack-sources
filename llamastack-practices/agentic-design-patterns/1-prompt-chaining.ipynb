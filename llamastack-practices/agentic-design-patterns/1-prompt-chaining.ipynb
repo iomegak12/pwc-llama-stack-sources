{
 "cells": [
  {
   "cell_type": "markdown",
   "metadata": {},
   "source": [
    "### Prompt Chaining - Agentic Design Pattern"
   ]
  },
  {
   "cell_type": "code",
   "execution_count": null,
   "metadata": {},
   "outputs": [],
   "source": [
    "import os\n",
    "\n",
    "from llama_stack_client import LlamaStackClient, Agent, AgentEventLogger\n",
    "from termcolor import colored\n",
    "from dotenv import load_dotenv"
   ]
  },
  {
   "cell_type": "code",
   "execution_count": null,
   "metadata": {},
   "outputs": [],
   "source": [
    "load_dotenv()"
   ]
  },
  {
   "cell_type": "code",
   "execution_count": null,
   "metadata": {},
   "outputs": [],
   "source": [
    "host = os.environ[\"TOGETHER_URL\"]\n",
    "together_api_key = os.environ[\"TOGETHER_API_KEY\"]\n",
    "\n",
    "client = LlamaStackClient(\n",
    "    base_url=host,\n",
    "    provider_data={\n",
    "        \"tavily_search_api_key\": os.getenv(\"TAVILY_SEARCH_API_KEY\"),\n",
    "        \"together_api_key\": together_api_key,\n",
    "    },\n",
    ")"
   ]
  },
  {
   "cell_type": "code",
   "execution_count": null,
   "metadata": {},
   "outputs": [],
   "source": [
    "MODEL_ID = \"meta-llama/Llama-3.3-70B-Instruct\"\n",
    "\n",
    "base_agent_config = dict(\n",
    "    model=MODEL_ID,\n",
    "    instructions=\"You are a helpful assistant.\",\n",
    "    sampling_params={\n",
    "        \"strategy\": {\n",
    "            \"type\": \"top_p\",\n",
    "            \"temperature\": 1.0,\n",
    "            \"top_p\": 0.9},\n",
    "    },\n",
    ")"
   ]
  },
  {
   "cell_type": "code",
   "execution_count": null,
   "metadata": {},
   "outputs": [],
   "source": [
    "from uuid import uuid4"
   ]
  },
  {
   "cell_type": "code",
   "execution_count": null,
   "metadata": {},
   "outputs": [],
   "source": [
    "vanilla_agent_config = {\n",
    "    **base_agent_config,\n",
    "    \"instructions\": \"\"\"\n",
    "    You are a helpful assistant capable of structuring data extraction and formatting. \n",
    "\n",
    "    You will be given tasks to extract and format data from a performance report. Here is the report:\n",
    "\n",
    "    Q3 Performance Summary:\n",
    "    Our customer satisfaction score rose to 92 points this quarter.\n",
    "    Revenue grew by 45% compared to last year.\n",
    "    Market share is now at 23% in our primary market.\n",
    "    Customer churn decreased to 5% from 8%.\n",
    "    New user acquisition cost is $43 per user.\n",
    "    Product adoption rate increased to 78%.\n",
    "    Employee satisfaction is at 87 points.\n",
    "    Operating margin improved to 34%.\n",
    "    \"\"\",\n",
    "}\n",
    "\n",
    "vanilla_agent = Agent(client, **vanilla_agent_config)\n",
    "prompt_chaining_session_id = vanilla_agent.create_session(session_name=f\"vanilla_agent_{uuid4()}\")"
   ]
  },
  {
   "cell_type": "code",
   "execution_count": null,
   "metadata": {},
   "outputs": [],
   "source": [
    "prompts = [\n",
    "    \"\"\"Extract only the numerical values and their associated metrics from the text.\n",
    "    Format each as 'value: metric' on a new line.\n",
    "    Example format:\n",
    "    92: customer satisfaction\n",
    "    45%: revenue growth\"\"\",\n",
    "\n",
    "    \"\"\"Convert all numerical values to percentages where possible.\n",
    "    If not a percentage or points, convert to decimal (e.g., 92 points -> 92%).\n",
    "    Keep one number per line.\n",
    "    Example format:\n",
    "    92%: customer satisfaction\n",
    "    45%: revenue growth\"\"\",\n",
    "\n",
    "    \"\"\"Sort all lines in descending order by numerical value.\n",
    "    Keep the format 'value: metric' on each line.\n",
    "    Example:\n",
    "    92%: customer satisfaction\n",
    "    87%: employee satisfaction\"\"\",\n",
    "\n",
    "    \"\"\"Format the sorted data as a markdown table with columns:\n",
    "    | Metric | Value |\n",
    "    |:--|--:|\n",
    "    | Customer Satisfaction | 92% |\"\"\",\n",
    "]"
   ]
  },
  {
   "cell_type": "code",
   "execution_count": null,
   "metadata": {},
   "outputs": [],
   "source": [
    "for i, prompt in enumerate(prompts):    \n",
    "    response = vanilla_agent.create_turn(\n",
    "        messages=[\n",
    "            {\n",
    "                \"role\": \"user\",\n",
    "                \"content\": prompt,\n",
    "            }\n",
    "        ],\n",
    "        session_id=prompt_chaining_session_id,\n",
    "        stream=False,\n",
    "    )\n",
    "    \n",
    "    print(\"========= Turn: \", i, \"=========\")\n",
    "    print(response.output_message.content)\n",
    "    print(\"\\n\")"
   ]
  },
  {
   "cell_type": "code",
   "execution_count": null,
   "metadata": {},
   "outputs": [],
   "source": [
    "from rich.pretty import pprint\n",
    "\n",
    "vanilla_agent_session = client.agents.session.retrieve(\n",
    "    session_id=prompt_chaining_session_id, agent_id=vanilla_agent.agent_id)\n",
    "\n",
    "pprint(vanilla_agent_session.to_dict())"
   ]
  }
 ],
 "metadata": {
  "kernelspec": {
   "display_name": "demo-app",
   "language": "python",
   "name": "python3"
  },
  "language_info": {
   "codemirror_mode": {
    "name": "ipython",
    "version": 3
   },
   "file_extension": ".py",
   "mimetype": "text/x-python",
   "name": "python",
   "nbconvert_exporter": "python",
   "pygments_lexer": "ipython3",
   "version": "3.12.9"
  }
 },
 "nbformat": 4,
 "nbformat_minor": 2
}
