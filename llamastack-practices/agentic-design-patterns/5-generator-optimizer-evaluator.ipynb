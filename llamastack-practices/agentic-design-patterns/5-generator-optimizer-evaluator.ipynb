{
 "cells": [
  {
   "cell_type": "markdown",
   "metadata": {},
   "source": [
    "#### Generator - Evaluator and Optimizer - Agentic Design Pattern"
   ]
  },
  {
   "cell_type": "code",
   "execution_count": null,
   "metadata": {},
   "outputs": [],
   "source": [
    "import os\n",
    "\n",
    "from llama_stack_client import LlamaStackClient, Agent, AgentEventLogger\n",
    "from termcolor import colored\n",
    "from dotenv import load_dotenv\n",
    "from pydantic import BaseModel\n",
    "\n",
    "import json\n",
    "from rich.pretty import pprint\n",
    "from uuid import uuid4"
   ]
  },
  {
   "cell_type": "code",
   "execution_count": null,
   "metadata": {},
   "outputs": [],
   "source": [
    "load_dotenv()"
   ]
  },
  {
   "cell_type": "code",
   "execution_count": null,
   "metadata": {},
   "outputs": [],
   "source": [
    "host = os.environ[\"TOGETHER_URL\"]\n",
    "together_api_key = os.environ[\"TOGETHER_API_KEY\"]\n",
    "\n",
    "client = LlamaStackClient(\n",
    "    base_url=host,\n",
    "    provider_data={\n",
    "        \"tavily_search_api_key\": os.getenv(\"TAVILY_SEARCH_API_KEY\"),\n",
    "        \"together_api_key\": together_api_key,\n",
    "    },\n",
    ")"
   ]
  },
  {
   "cell_type": "code",
   "execution_count": null,
   "metadata": {},
   "outputs": [],
   "source": [
    "MODEL_ID = \"meta-llama/Llama-3.3-70B-Instruct\"\n",
    "\n",
    "base_agent_config = dict(\n",
    "    model=MODEL_ID,\n",
    "    instructions=\"You are a helpful assistant.\",\n",
    "    sampling_params={\n",
    "        \"strategy\": {\"type\": \"top_p\", \"temperature\": 1.0, \"top_p\": 0.9},\n",
    "    },\n",
    ")"
   ]
  },
  {
   "cell_type": "code",
   "execution_count": null,
   "metadata": {},
   "outputs": [],
   "source": [
    "class GeneratorOutputSchema(BaseModel):\n",
    "    thoughts: str\n",
    "    response: str"
   ]
  },
  {
   "cell_type": "code",
   "execution_count": null,
   "metadata": {},
   "outputs": [],
   "source": [
    "generator_agent_config = {\n",
    "    **base_agent_config,\n",
    "    \"instructions\": \"\"\"Your goal is to complete the task based on <user input>. If there are feedback \n",
    "    from your previous generations, you should reflect on them to improve your solution\n",
    "\n",
    "    Output your answer concisely in the following JSON format:\n",
    "    {{\n",
    "        \"thoughts\": \"<Your understanding of the task and feedback and how you plan to improve>\",\n",
    "        \"response\": \"<Your code implementation here>\"\n",
    "    }}\n",
    "    \"\"\",\n",
    "    \"response_format\": {\n",
    "        \"type\": \"json_schema\",\n",
    "        \"json_schema\": GeneratorOutputSchema.model_json_schema()\n",
    "    }\n",
    "}"
   ]
  },
  {
   "cell_type": "code",
   "execution_count": null,
   "metadata": {},
   "outputs": [],
   "source": [
    "class EvaluatorOutputSchema(BaseModel):\n",
    "    evaluation: str\n",
    "    feedback: str\n"
   ]
  },
  {
   "cell_type": "code",
   "execution_count": null,
   "metadata": {},
   "outputs": [],
   "source": [
    "evaluator_agent_config = {\n",
    "    **base_agent_config,\n",
    "    \"instructions\": \"\"\"Evaluate this following code implementation for:\n",
    "    1. code correctness\n",
    "    2. time complexity\n",
    "    3. style and best practices\n",
    "\n",
    "    You should be evaluating only and not attemping to solve the task.\n",
    "    Only output \"PASS\" if all criteria are met and you have no further suggestions for improvements.\n",
    "    Output your evaluation concisely in the following JSON format.\n",
    "    {{\n",
    "        \"evaluation\": \"<evaluation enum output>\",\n",
    "        \"feedback\": \"What needs improvement and why.\"\n",
    "    }}\n",
    "\n",
    "    The evaluation enum output should be one of the following:\n",
    "    - PASS\n",
    "    - NEEDS_IMPROVEMENT\n",
    "    - FAIL\n",
    "    \"\"\",\n",
    "    \"response_format\": {\n",
    "        \"type\": \"json_schema\",\n",
    "        \"json_schema\": EvaluatorOutputSchema.model_json_schema()\n",
    "    }\n",
    "}"
   ]
  },
  {
   "cell_type": "code",
   "execution_count": null,
   "metadata": {},
   "outputs": [],
   "source": [
    "generator_agent = Agent(client, **generator_agent_config)\n",
    "evaluator_agent = Agent(client, **evaluator_agent_config)\n",
    "\n",
    "generator_session_id = generator_agent.create_session(session_name=f\"generator_agent_{uuid4()}\")\n",
    "evaluator_session_id = evaluator_agent.create_session(session_name=f\"evaluator_agent_{uuid4()}\")\n"
   ]
  },
  {
   "cell_type": "code",
   "execution_count": null,
   "metadata": {},
   "outputs": [],
   "source": [
    "def generator_evaluator_workflow(user_input):\n",
    "    generator_response = generator_agent.create_turn(\n",
    "        messages=[\n",
    "            {\"role\": \"user\", \"content\": user_input}\n",
    "        ],\n",
    "        session_id=generator_session_id,\n",
    "        stream=False,\n",
    "    )\n",
    "    generator_result = json.loads(generator_response.output_message.content)\n",
    "\n",
    "    while True:\n",
    "        evaluator_response = evaluator_agent.create_turn(\n",
    "            messages=[\n",
    "                {\"role\": \"user\", \"content\": generator_result[\"response\"]}\n",
    "            ],\n",
    "            session_id=evaluator_session_id,\n",
    "            stream=False,\n",
    "        )\n",
    "\n",
    "        evaluator_result = json.loads(evaluator_response.output_message.content)\n",
    "\n",
    "        if evaluator_result[\"evaluation\"] == \"PASS\":\n",
    "            return generator_result\n",
    "\n",
    "        generator_response = generator_agent.create_turn(\n",
    "            messages=[\n",
    "                {\"role\": \"user\", \"content\": f\"{evaluator_result['feedback']}\"}\n",
    "            ],\n",
    "            session_id=generator_session_id,\n",
    "            stream=False,\n",
    "        )\n",
    "        \n",
    "        generator_result = json.loads(generator_response.output_message.content)"
   ]
  },
  {
   "cell_type": "code",
   "execution_count": null,
   "metadata": {},
   "outputs": [],
   "source": [
    "coding_task = \"\"\"\n",
    "Implement a Stack with:\n",
    "1. push(x)\n",
    "2. pop()\n",
    "3. getMin()\n",
    "All operations should be O(1).\n",
    "\"\"\"\n",
    "\n",
    "output = generator_evaluator_workflow(coding_task)\n",
    "\n",
    "print(output[\"response\"])"
   ]
  },
  {
   "cell_type": "code",
   "execution_count": null,
   "metadata": {},
   "outputs": [],
   "source": [
    "generator_agent_session = client.agents.session.retrieve(\n",
    "    session_id=generator_session_id, \n",
    "    agent_id=generator_agent.agent_id)\n",
    "\n",
    "pprint(generator_agent_session.to_dict())\n"
   ]
  },
  {
   "cell_type": "code",
   "execution_count": null,
   "metadata": {},
   "outputs": [],
   "source": [
    "\n",
    "evaluator_agent_session = client.agents.session.retrieve(\n",
    "    session_id=evaluator_session_id, agent_id=evaluator_agent.agent_id)\n",
    "\n",
    "pprint(evaluator_agent_session.to_dict())"
   ]
  }
 ],
 "metadata": {
  "kernelspec": {
   "display_name": "demo-app",
   "language": "python",
   "name": "python3"
  },
  "language_info": {
   "codemirror_mode": {
    "name": "ipython",
    "version": 3
   },
   "file_extension": ".py",
   "mimetype": "text/x-python",
   "name": "python",
   "nbconvert_exporter": "python",
   "pygments_lexer": "ipython3",
   "version": "3.12.9"
  }
 },
 "nbformat": 4,
 "nbformat_minor": 2
}
